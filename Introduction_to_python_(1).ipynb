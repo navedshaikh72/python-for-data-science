{
  "nbformat": 4,
  "nbformat_minor": 0,
  "metadata": {
    "colab": {
      "name": "Introduction_to_python (1).ipynb",
      "provenance": [],
      "include_colab_link": true
    },
    "kernelspec": {
      "name": "python3",
      "display_name": "Python 3"
    }
  },
  "cells": [
    {
      "cell_type": "markdown",
      "metadata": {
        "id": "view-in-github",
        "colab_type": "text"
      },
      "source": [
        "<a href=\"https://colab.research.google.com/github/navedshaikh72/python-for-data-science/blob/master/Introduction_to_python_(1).ipynb\" target=\"_parent\"><img src=\"https://colab.research.google.com/assets/colab-badge.svg\" alt=\"Open In Colab\"/></a>"
      ]
    },
    {
      "cell_type": "code",
      "metadata": {
        "id": "36GwNrHExe7i",
        "colab_type": "code",
        "colab": {}
      },
      "source": [
        ""
      ],
      "execution_count": 0,
      "outputs": []
    },
    {
      "cell_type": "markdown",
      "metadata": {
        "id": "PrGGFHJuLuuc",
        "colab_type": "text"
      },
      "source": [
        "This is my first jupyter notebooks."
      ]
    },
    {
      "cell_type": "code",
      "metadata": {
        "id": "fwJZJqkBL15M",
        "colab_type": "code",
        "colab": {}
      },
      "source": [
        ""
      ],
      "execution_count": 0,
      "outputs": []
    },
    {
      "cell_type": "code",
      "metadata": {
        "id": "7Vu1CSecNZOl",
        "colab_type": "code",
        "colab": {}
      },
      "source": [
        "name = \"Arshad\"\n",
        "\n",
        "#this is a variable of type string"
      ],
      "execution_count": 0,
      "outputs": []
    },
    {
      "cell_type": "code",
      "metadata": {
        "id": "GqK2GtDYNbzn",
        "colab_type": "code",
        "outputId": "fcf50115-2e05-4145-fd32-3b95d93e7d4b",
        "colab": {
          "base_uri": "https://localhost:8080/",
          "height": 34
        }
      },
      "source": [
        "name"
      ],
      "execution_count": 15,
      "outputs": [
        {
          "output_type": "execute_result",
          "data": {
            "text/plain": [
              "'Arshad'"
            ]
          },
          "metadata": {
            "tags": []
          },
          "execution_count": 15
        }
      ]
    },
    {
      "cell_type": "code",
      "metadata": {
        "id": "Za6MAuaqPCwv",
        "colab_type": "code",
        "colab": {}
      },
      "source": [
        "#form of Number\n",
        "\n",
        "age = 24"
      ],
      "execution_count": 0,
      "outputs": []
    },
    {
      "cell_type": "code",
      "metadata": {
        "id": "WpVvDJgGRObQ",
        "colab_type": "code",
        "outputId": "7cf9b62e-fe83-4e3e-9d79-f26d82931fb7",
        "colab": {
          "base_uri": "https://localhost:8080/",
          "height": 34
        }
      },
      "source": [
        "age\n"
      ],
      "execution_count": 17,
      "outputs": [
        {
          "output_type": "execute_result",
          "data": {
            "text/plain": [
              "24"
            ]
          },
          "metadata": {
            "tags": []
          },
          "execution_count": 17
        }
      ]
    },
    {
      "cell_type": "code",
      "metadata": {
        "id": "7uTVgCucRRRU",
        "colab_type": "code",
        "colab": {}
      },
      "source": [
        "var = \"Arshad23\""
      ],
      "execution_count": 0,
      "outputs": []
    },
    {
      "cell_type": "code",
      "metadata": {
        "id": "tFV59adgRyeV",
        "colab_type": "code",
        "outputId": "34ff6444-8505-4600-8b67-7a3b171ccf50",
        "colab": {
          "base_uri": "https://localhost:8080/",
          "height": 34
        }
      },
      "source": [
        "var"
      ],
      "execution_count": 19,
      "outputs": [
        {
          "output_type": "execute_result",
          "data": {
            "text/plain": [
              "'Arshad23'"
            ]
          },
          "metadata": {
            "tags": []
          },
          "execution_count": 19
        }
      ]
    },
    {
      "cell_type": "code",
      "metadata": {
        "id": "otAqAgPsRzOm",
        "colab_type": "code",
        "outputId": "1bc9dc6c-3ff9-4f87-d426-4e1de24e1dec",
        "colab": {
          "base_uri": "https://localhost:8080/",
          "height": 68
        }
      },
      "source": [
        "# print Multiple variables\n",
        "\n",
        "print(name)\n",
        "print(age)\n",
        "print(var)\n"
      ],
      "execution_count": 20,
      "outputs": [
        {
          "output_type": "stream",
          "text": [
            "Arshad\n",
            "24\n",
            "Arshad23\n"
          ],
          "name": "stdout"
        }
      ]
    },
    {
      "cell_type": "code",
      "metadata": {
        "id": "rt73LaDGSNTk",
        "colab_type": "code",
        "colab": {}
      },
      "source": [
        "#boolean variable\n",
        "male= True \n",
        "#A boolean value always starts with a capital letter"
      ],
      "execution_count": 0,
      "outputs": []
    },
    {
      "cell_type": "code",
      "metadata": {
        "id": "Yi5HzayyTgCn",
        "colab_type": "code",
        "outputId": "0d3d9b46-4a4d-44e8-8ece-7e44c688bbe8",
        "colab": {
          "base_uri": "https://localhost:8080/",
          "height": 34
        }
      },
      "source": [
        "male"
      ],
      "execution_count": 22,
      "outputs": [
        {
          "output_type": "execute_result",
          "data": {
            "text/plain": [
              "True"
            ]
          },
          "metadata": {
            "tags": []
          },
          "execution_count": 22
        }
      ]
    },
    {
      "cell_type": "code",
      "metadata": {
        "id": "tRROjB5UTg7n",
        "colab_type": "code",
        "colab": {}
      },
      "source": [
        "#Floating Numbers\n",
        "Percentage = 79.82"
      ],
      "execution_count": 0,
      "outputs": []
    },
    {
      "cell_type": "code",
      "metadata": {
        "id": "RdDWMyOTUJRm",
        "colab_type": "code",
        "outputId": "3d5bd47f-1289-496c-fb3a-3ae2b63b0b89",
        "colab": {
          "base_uri": "https://localhost:8080/",
          "height": 34
        }
      },
      "source": [
        "Percentage"
      ],
      "execution_count": 24,
      "outputs": [
        {
          "output_type": "execute_result",
          "data": {
            "text/plain": [
              "79.82"
            ]
          },
          "metadata": {
            "tags": []
          },
          "execution_count": 24
        }
      ]
    },
    {
      "cell_type": "code",
      "metadata": {
        "id": "MvF9P9JNULA2",
        "colab_type": "code",
        "colab": {}
      },
      "source": [
        "#lists stores a group of value seperated by coma within Square brackets\n",
        "marks =[12,23,34,45,5667,'Arshad',12.3,'Arshad123',Percentage]"
      ],
      "execution_count": 0,
      "outputs": []
    },
    {
      "cell_type": "code",
      "metadata": {
        "id": "D-W2Cqu6ijD4",
        "colab_type": "code",
        "colab": {
          "base_uri": "https://localhost:8080/",
          "height": 34
        },
        "outputId": "a68e60c7-1c56-46fb-f4db-abc8a93d4b64"
      },
      "source": [
        "type(marks)"
      ],
      "execution_count": 26,
      "outputs": [
        {
          "output_type": "execute_result",
          "data": {
            "text/plain": [
              "list"
            ]
          },
          "metadata": {
            "tags": []
          },
          "execution_count": 26
        }
      ]
    },
    {
      "cell_type": "code",
      "metadata": {
        "id": "XlnoknBfVJuO",
        "colab_type": "code",
        "outputId": "dc02971a-253b-4fe5-a8f1-1c0686c6c62b",
        "colab": {
          "base_uri": "https://localhost:8080/",
          "height": 34
        }
      },
      "source": [
        "marks"
      ],
      "execution_count": 27,
      "outputs": [
        {
          "output_type": "execute_result",
          "data": {
            "text/plain": [
              "[12, 23, 34, 45, 5667, 'Arshad', 12.3, 'Arshad123', 79.82]"
            ]
          },
          "metadata": {
            "tags": []
          },
          "execution_count": 27
        }
      ]
    },
    {
      "cell_type": "code",
      "metadata": {
        "id": "F5OO1S2eVKj3",
        "colab_type": "code",
        "outputId": "adf141a5-e54d-47cf-fb8d-c25796f18d4e",
        "colab": {
          "base_uri": "https://localhost:8080/",
          "height": 34
        }
      },
      "source": [
        "marks[5]"
      ],
      "execution_count": 28,
      "outputs": [
        {
          "output_type": "execute_result",
          "data": {
            "text/plain": [
              "'Arshad'"
            ]
          },
          "metadata": {
            "tags": []
          },
          "execution_count": 28
        }
      ]
    },
    {
      "cell_type": "code",
      "metadata": {
        "id": "ZBr-PElHWJ8g",
        "colab_type": "code",
        "colab": {}
      },
      "source": [
        "#Dictionary stores all data type with keys and calues within curly bracket"
      ],
      "execution_count": 0,
      "outputs": []
    },
    {
      "cell_type": "code",
      "metadata": {
        "id": "s8Uapu3ZZBcb",
        "colab_type": "code",
        "colab": {}
      },
      "source": [
        "Education = {'tenth':79.82,'Twelth':60,'name':'Arshad','male':True}"
      ],
      "execution_count": 0,
      "outputs": []
    },
    {
      "cell_type": "code",
      "metadata": {
        "id": "5T9XFSR2ZOnZ",
        "colab_type": "code",
        "outputId": "0bdfe59c-096c-48fd-a065-597a9b986ec2",
        "colab": {
          "base_uri": "https://localhost:8080/",
          "height": 34
        }
      },
      "source": [
        "Education"
      ],
      "execution_count": 31,
      "outputs": [
        {
          "output_type": "execute_result",
          "data": {
            "text/plain": [
              "{'Twelth': 60, 'male': True, 'name': 'Arshad', 'tenth': 79.82}"
            ]
          },
          "metadata": {
            "tags": []
          },
          "execution_count": 31
        }
      ]
    },
    {
      "cell_type": "code",
      "metadata": {
        "id": "JW1Jif-kZT9s",
        "colab_type": "code",
        "outputId": "dfef6f2b-01a6-497d-ca75-177c1de9f109",
        "colab": {
          "base_uri": "https://localhost:8080/",
          "height": 34
        }
      },
      "source": [
        "Education['tenth']"
      ],
      "execution_count": 32,
      "outputs": [
        {
          "output_type": "execute_result",
          "data": {
            "text/plain": [
              "79.82"
            ]
          },
          "metadata": {
            "tags": []
          },
          "execution_count": 32
        }
      ]
    },
    {
      "cell_type": "code",
      "metadata": {
        "id": "v0ANin5SZdsd",
        "colab_type": "code",
        "outputId": "f349fbd8-7795-4e23-ad88-e58ce004a258",
        "colab": {
          "base_uri": "https://localhost:8080/",
          "height": 34
        }
      },
      "source": [
        "#print only keys\n",
        "Education.keys()"
      ],
      "execution_count": 33,
      "outputs": [
        {
          "output_type": "execute_result",
          "data": {
            "text/plain": [
              "dict_keys(['tenth', 'Twelth', 'name', 'male'])"
            ]
          },
          "metadata": {
            "tags": []
          },
          "execution_count": 33
        }
      ]
    },
    {
      "cell_type": "code",
      "metadata": {
        "id": "DZEKbbsVZ0w3",
        "colab_type": "code",
        "colab": {}
      },
      "source": [
        "#make a Dictionary containing a list of marks of 3 students\n",
        "\n",
        "Students = {'stu1':[12,23,34], 'stu2':[67,78,89],'st3':[657,67,89]}"
      ],
      "execution_count": 0,
      "outputs": []
    },
    {
      "cell_type": "code",
      "metadata": {
        "id": "AgrnXBqydFzx",
        "colab_type": "code",
        "outputId": "660c0f36-6548-43a7-94d3-93c477b16325",
        "colab": {
          "base_uri": "https://localhost:8080/",
          "height": 34
        }
      },
      "source": [
        "#printout the graduation score of the second students\n",
        "Students['stu2'][-1]\n",
        "# if  we put -1 it wil take the last value and -2 second last value"
      ],
      "execution_count": 35,
      "outputs": [
        {
          "output_type": "execute_result",
          "data": {
            "text/plain": [
              "89"
            ]
          },
          "metadata": {
            "tags": []
          },
          "execution_count": 35
        }
      ]
    },
    {
      "cell_type": "code",
      "metadata": {
        "id": "tGIcNYg_blrQ",
        "colab_type": "code",
        "outputId": "86471275-a7bb-4b23-a9cc-35302c15f227",
        "colab": {
          "base_uri": "https://localhost:8080/",
          "height": 34
        }
      },
      "source": [
        "Students\n"
      ],
      "execution_count": 36,
      "outputs": [
        {
          "output_type": "execute_result",
          "data": {
            "text/plain": [
              "{'st3': [657, 67, 89], 'stu1': [12, 23, 34], 'stu2': [67, 78, 89]}"
            ]
          },
          "metadata": {
            "tags": []
          },
          "execution_count": 36
        }
      ]
    },
    {
      "cell_type": "code",
      "metadata": {
        "id": "SkN-5tAJbnj-",
        "colab_type": "code",
        "colab": {}
      },
      "source": [
        "# make a list containing a dictionary\n",
        "\n",
        "friends = [{'st1name':'Arshad','st1srname':'Ansari'},{'st1name':'Naved','st2surname':'shaikh'}]"
      ],
      "execution_count": 0,
      "outputs": []
    },
    {
      "cell_type": "code",
      "metadata": {
        "id": "b5czX2oCgHVz",
        "colab_type": "code",
        "outputId": "16023552-bacf-4743-af90-6baca0bd9acd",
        "colab": {
          "base_uri": "https://localhost:8080/",
          "height": 51
        }
      },
      "source": [
        "friends"
      ],
      "execution_count": 38,
      "outputs": [
        {
          "output_type": "execute_result",
          "data": {
            "text/plain": [
              "[{'st1name': 'Arshad', 'st1srname': 'Ansari'},\n",
              " {'st1name': 'Naved', 'st2surname': 'shaikh'}]"
            ]
          },
          "metadata": {
            "tags": []
          },
          "execution_count": 38
        }
      ]
    },
    {
      "cell_type": "code",
      "metadata": {
        "id": "Fb221zz-iC-k",
        "colab_type": "code",
        "colab": {
          "base_uri": "https://localhost:8080/",
          "height": 34
        },
        "outputId": "7e0a20c8-3930-411e-f7e6-a9d2a771466e"
      },
      "source": [
        "#find out the type of data for variable marks\n",
        "\n",
        "type(marks)\n",
        "\n"
      ],
      "execution_count": 40,
      "outputs": [
        {
          "output_type": "execute_result",
          "data": {
            "text/plain": [
              "list"
            ]
          },
          "metadata": {
            "tags": []
          },
          "execution_count": 40
        }
      ]
    },
    {
      "cell_type": "code",
      "metadata": {
        "id": "vU5SB_OriaCv",
        "colab_type": "code",
        "colab": {}
      },
      "source": [
        "#create a new list with names of 3 friends, print and add the fourth one\n",
        "\n",
        "my_friend=['Arshad','Naved','Sohel']"
      ],
      "execution_count": 0,
      "outputs": []
    },
    {
      "cell_type": "code",
      "metadata": {
        "id": "4__GllX_jtz-",
        "colab_type": "code",
        "colab": {
          "base_uri": "https://localhost:8080/",
          "height": 34
        },
        "outputId": "736a71a5-af4c-4dea-afc6-71222c7512ee"
      },
      "source": [
        "my_friend"
      ],
      "execution_count": 43,
      "outputs": [
        {
          "output_type": "execute_result",
          "data": {
            "text/plain": [
              "['Arshad', 'Naved', 'Sohel']"
            ]
          },
          "metadata": {
            "tags": []
          },
          "execution_count": 43
        }
      ]
    },
    {
      "cell_type": "code",
      "metadata": {
        "id": "Nxk2LZPujyGo",
        "colab_type": "code",
        "colab": {}
      },
      "source": [
        "my_friend.append('saeed')"
      ],
      "execution_count": 0,
      "outputs": []
    },
    {
      "cell_type": "code",
      "metadata": {
        "id": "JM0UJLv0kDF5",
        "colab_type": "code",
        "colab": {
          "base_uri": "https://localhost:8080/",
          "height": 34
        },
        "outputId": "70bb4a3c-fef9-43a9-e5fd-d46ea65fbb12"
      },
      "source": [
        "my_friend"
      ],
      "execution_count": 46,
      "outputs": [
        {
          "output_type": "execute_result",
          "data": {
            "text/plain": [
              "['Arshad', 'Naved', 'Sohel', 'saeed']"
            ]
          },
          "metadata": {
            "tags": []
          },
          "execution_count": 46
        }
      ]
    },
    {
      "cell_type": "code",
      "metadata": {
        "id": "pDyvZ5uZkRRz",
        "colab_type": "code",
        "colab": {}
      },
      "source": [
        "my_friend[0]='rahul'"
      ],
      "execution_count": 0,
      "outputs": []
    },
    {
      "cell_type": "code",
      "metadata": {
        "id": "YXOe-rXik4Ic",
        "colab_type": "code",
        "colab": {
          "base_uri": "https://localhost:8080/",
          "height": 34
        },
        "outputId": "2e4cf3e4-8919-48a0-cccb-91ae3d67a81b"
      },
      "source": [
        "my_friend"
      ],
      "execution_count": 50,
      "outputs": [
        {
          "output_type": "execute_result",
          "data": {
            "text/plain": [
              "['rahul', 'Naved', 'Sohel', 'saeed']"
            ]
          },
          "metadata": {
            "tags": []
          },
          "execution_count": 50
        }
      ]
    },
    {
      "cell_type": "code",
      "metadata": {
        "id": "kKZvZfv5k6rt",
        "colab_type": "code",
        "colab": {}
      },
      "source": [
        "\n",
        "\n",
        "\n"
      ],
      "execution_count": 0,
      "outputs": []
    }
  ]
}