{
  "nbformat": 4,
  "nbformat_minor": 0,
  "metadata": {
    "colab": {
      "name": "my second notebook.ipynb",
      "provenance": [],
      "authorship_tag": "ABX9TyNPM+XQck89PRzbgYZBPnOf",
      "include_colab_link": true
    },
    "kernelspec": {
      "name": "python3",
      "display_name": "Python 3"
    },
    "accelerator": "GPU"
  },
  "cells": [
    {
      "cell_type": "markdown",
      "metadata": {
        "id": "view-in-github",
        "colab_type": "text"
      },
      "source": [
        "<a href=\"https://colab.research.google.com/github/navedshaikh72/python-for-data-science/blob/master/my_second_notebook.ipynb\" target=\"_parent\"><img src=\"https://colab.research.google.com/assets/colab-badge.svg\" alt=\"Open In Colab\"/></a>"
      ]
    },
    {
      "cell_type": "markdown",
      "metadata": {
        "id": "TuhL1UEERLTE",
        "colab_type": "text"
      },
      "source": [
        "my name is naved shaikh.\n",
        "i am 23 years old.\n",
        "i have completed my be in electronics engineering\n",
        "currently i am working with ags transact technologies.\n",
        "i want to become a data scientist\n"
      ]
    },
    {
      "cell_type": "markdown",
      "metadata": {
        "id": "UapgEyc8RRbC",
        "colab_type": "text"
      },
      "source": [
        "i want to enhance my skill.\n",
        "want to work with the latest technology.\n",
        "want to make career in data science\n"
      ]
    },
    {
      "cell_type": "code",
      "metadata": {
        "id": "ftI7B-YYVQTu",
        "colab_type": "code",
        "colab": {}
      },
      "source": [
        "name = 'naved'"
      ],
      "execution_count": 0,
      "outputs": []
    },
    {
      "cell_type": "code",
      "metadata": {
        "id": "9EukIzxWVTKe",
        "colab_type": "code",
        "colab": {
          "base_uri": "https://localhost:8080/",
          "height": 34
        },
        "outputId": "b6cb197e-1b41-43fe-a421-c250eaf9dc8d"
      },
      "source": [
        "name"
      ],
      "execution_count": 15,
      "outputs": [
        {
          "output_type": "execute_result",
          "data": {
            "text/plain": [
              "'naved'"
            ]
          },
          "metadata": {
            "tags": []
          },
          "execution_count": 15
        }
      ]
    },
    {
      "cell_type": "code",
      "metadata": {
        "id": "OZw1kh2jVUSO",
        "colab_type": "code",
        "colab": {}
      },
      "source": [
        "lastname = 'shaikh'"
      ],
      "execution_count": 0,
      "outputs": []
    },
    {
      "cell_type": "code",
      "metadata": {
        "id": "0AlqoyNhVZkt",
        "colab_type": "code",
        "colab": {
          "base_uri": "https://localhost:8080/",
          "height": 34
        },
        "outputId": "0795d3ae-7e28-4116-9d41-65bd6f822c08"
      },
      "source": [
        "lastname"
      ],
      "execution_count": 19,
      "outputs": [
        {
          "output_type": "execute_result",
          "data": {
            "text/plain": [
              "'shaikh'"
            ]
          },
          "metadata": {
            "tags": []
          },
          "execution_count": 19
        }
      ]
    },
    {
      "cell_type": "code",
      "metadata": {
        "id": "j537XJDfVm0e",
        "colab_type": "code",
        "colab": {}
      },
      "source": [
        "cityname = 'mumbai'"
      ],
      "execution_count": 0,
      "outputs": []
    },
    {
      "cell_type": "code",
      "metadata": {
        "id": "Qorz9zlPVqD-",
        "colab_type": "code",
        "colab": {
          "base_uri": "https://localhost:8080/",
          "height": 34
        },
        "outputId": "dbc6fe59-0138-480c-b82b-6412a733b266"
      },
      "source": [
        "cityname"
      ],
      "execution_count": 21,
      "outputs": [
        {
          "output_type": "execute_result",
          "data": {
            "text/plain": [
              "'mumbai'"
            ]
          },
          "metadata": {
            "tags": []
          },
          "execution_count": 21
        }
      ]
    },
    {
      "cell_type": "code",
      "metadata": {
        "id": "D1VmwQWfVsJu",
        "colab_type": "code",
        "colab": {}
      },
      "source": [
        "#integar variable with age\n",
        "age = 23"
      ],
      "execution_count": 0,
      "outputs": []
    },
    {
      "cell_type": "code",
      "metadata": {
        "id": "eerlpjshV62-",
        "colab_type": "code",
        "colab": {
          "base_uri": "https://localhost:8080/",
          "height": 34
        },
        "outputId": "15becb3b-5de8-4217-9434-a27dd3924e69"
      },
      "source": [
        "age"
      ],
      "execution_count": 23,
      "outputs": [
        {
          "output_type": "execute_result",
          "data": {
            "text/plain": [
              "23"
            ]
          },
          "metadata": {
            "tags": []
          },
          "execution_count": 23
        }
      ]
    },
    {
      "cell_type": "code",
      "metadata": {
        "id": "BR_XAC9iV7ve",
        "colab_type": "code",
        "colab": {}
      },
      "source": [
        "#integer variable with height \n",
        "height = 176"
      ],
      "execution_count": 0,
      "outputs": []
    },
    {
      "cell_type": "code",
      "metadata": {
        "id": "ipz2ZU6ZWfYm",
        "colab_type": "code",
        "colab": {
          "base_uri": "https://localhost:8080/",
          "height": 34
        },
        "outputId": "d8d46dbf-9a33-498f-dcd2-9aa3c78bf73b"
      },
      "source": [
        "height"
      ],
      "execution_count": 25,
      "outputs": [
        {
          "output_type": "execute_result",
          "data": {
            "text/plain": [
              "176"
            ]
          },
          "metadata": {
            "tags": []
          },
          "execution_count": 25
        }
      ]
    },
    {
      "cell_type": "code",
      "metadata": {
        "id": "J8oOP7oHWgl-",
        "colab_type": "code",
        "colab": {
          "base_uri": "https://localhost:8080/",
          "height": 102
        },
        "outputId": "69da9345-c1d4-4d4a-9964-1c1d3bd8fb94"
      },
      "source": [
        "print(name)\n",
        "print(lastname)\n",
        "print(cityname)\n",
        "print(age)\n",
        "print(height)"
      ],
      "execution_count": 26,
      "outputs": [
        {
          "output_type": "stream",
          "text": [
            "naved\n",
            "shaikh\n",
            "mumbai\n",
            "23\n",
            "176\n"
          ],
          "name": "stdout"
        }
      ]
    },
    {
      "cell_type": "code",
      "metadata": {
        "id": "EAXcZkaAXAUP",
        "colab_type": "code",
        "colab": {}
      },
      "source": [
        "#float variables\n",
        "tenthpercentage = 86.2\n",
        "twelthpercentage = 60.53"
      ],
      "execution_count": 0,
      "outputs": []
    },
    {
      "cell_type": "code",
      "metadata": {
        "id": "ORER9x4aXgJw",
        "colab_type": "code",
        "colab": {
          "base_uri": "https://localhost:8080/",
          "height": 34
        },
        "outputId": "701cd90b-2138-4c5e-fb03-5202d84719c0"
      },
      "source": [
        "tenthpercentage"
      ],
      "execution_count": 28,
      "outputs": [
        {
          "output_type": "execute_result",
          "data": {
            "text/plain": [
              "86.2"
            ]
          },
          "metadata": {
            "tags": []
          },
          "execution_count": 28
        }
      ]
    },
    {
      "cell_type": "code",
      "metadata": {
        "id": "2ThmtobxXiuv",
        "colab_type": "code",
        "colab": {
          "base_uri": "https://localhost:8080/",
          "height": 34
        },
        "outputId": "c2efae69-2126-4e14-d29a-04ffe27bfc6d"
      },
      "source": [
        "twelthpercentage"
      ],
      "execution_count": 29,
      "outputs": [
        {
          "output_type": "execute_result",
          "data": {
            "text/plain": [
              "60.53"
            ]
          },
          "metadata": {
            "tags": []
          },
          "execution_count": 29
        }
      ]
    },
    {
      "cell_type": "code",
      "metadata": {
        "id": "csSRul4uXloP",
        "colab_type": "code",
        "colab": {}
      },
      "source": [
        "#list of 5 favourite numbers\n",
        "favourite_numbers = [45,25,24.23,56.89]"
      ],
      "execution_count": 0,
      "outputs": []
    },
    {
      "cell_type": "code",
      "metadata": {
        "id": "ikJrhXbCc2e1",
        "colab_type": "code",
        "colab": {
          "base_uri": "https://localhost:8080/",
          "height": 34
        },
        "outputId": "edaa7516-b5bd-4ed3-e22b-d6df2ebbe046"
      },
      "source": [
        "favourite_numbers"
      ],
      "execution_count": 31,
      "outputs": [
        {
          "output_type": "execute_result",
          "data": {
            "text/plain": [
              "[45, 25, 24.23, 56.89]"
            ]
          },
          "metadata": {
            "tags": []
          },
          "execution_count": 31
        }
      ]
    },
    {
      "cell_type": "code",
      "metadata": {
        "id": "4_fs8Pnrc5Gy",
        "colab_type": "code",
        "colab": {}
      },
      "source": [
        "#list of 5 friends\n",
        "my_friend = ['rahul','sohel','saeed','arshad','vedesh']"
      ],
      "execution_count": 0,
      "outputs": []
    },
    {
      "cell_type": "code",
      "metadata": {
        "id": "NW_RI7yvdM2i",
        "colab_type": "code",
        "colab": {
          "base_uri": "https://localhost:8080/",
          "height": 34
        },
        "outputId": "976b3f63-38b6-4cf4-e2d6-dadaeadffa67"
      },
      "source": [
        "my_friend"
      ],
      "execution_count": 35,
      "outputs": [
        {
          "output_type": "execute_result",
          "data": {
            "text/plain": [
              "['rahul', 'sohel', 'saeed', 'arshad', 'vedesh']"
            ]
          },
          "metadata": {
            "tags": []
          },
          "execution_count": 35
        }
      ]
    },
    {
      "cell_type": "code",
      "metadata": {
        "id": "q0AQHBHddY1i",
        "colab_type": "code",
        "colab": {
          "base_uri": "https://localhost:8080/",
          "height": 34
        },
        "outputId": "59bb8b06-1197-40e1-cce4-803944e1fd0c"
      },
      "source": [
        "#name of first friend\n",
        "my_friend[0]"
      ],
      "execution_count": 37,
      "outputs": [
        {
          "output_type": "execute_result",
          "data": {
            "text/plain": [
              "'rahul'"
            ]
          },
          "metadata": {
            "tags": []
          },
          "execution_count": 37
        }
      ]
    },
    {
      "cell_type": "code",
      "metadata": {
        "id": "zmTcY8iCdvcy",
        "colab_type": "code",
        "colab": {
          "base_uri": "https://localhost:8080/",
          "height": 34
        },
        "outputId": "ad89cdef-30a6-4d4f-b451-86520a9e91f6"
      },
      "source": [
        "#favorite number from list\n",
        "favourite_numbers[2]"
      ],
      "execution_count": 38,
      "outputs": [
        {
          "output_type": "execute_result",
          "data": {
            "text/plain": [
              "24.23"
            ]
          },
          "metadata": {
            "tags": []
          },
          "execution_count": 38
        }
      ]
    },
    {
      "cell_type": "code",
      "metadata": {
        "id": "6lVxUnpieGlz",
        "colab_type": "code",
        "colab": {}
      },
      "source": [
        "#dictionary myself\n",
        "myself = {'dob': 23, 'favorite colour':'black', 'age':23,'gender':'male', 'name':'naved', 'favourite song':'hawa banke'}\n"
      ],
      "execution_count": 0,
      "outputs": []
    },
    {
      "cell_type": "code",
      "metadata": {
        "id": "2iQOHgTMf2gJ",
        "colab_type": "code",
        "colab": {
          "base_uri": "https://localhost:8080/",
          "height": 34
        },
        "outputId": "393ffbd8-8bef-449f-f30f-e747a7779d8c"
      },
      "source": [
        "#name and gender\n",
        "myself['name']"
      ],
      "execution_count": 46,
      "outputs": [
        {
          "output_type": "execute_result",
          "data": {
            "text/plain": [
              "'naved'"
            ]
          },
          "metadata": {
            "tags": []
          },
          "execution_count": 46
        }
      ]
    },
    {
      "cell_type": "code",
      "metadata": {
        "id": "ihHBVZo3gN0i",
        "colab_type": "code",
        "colab": {
          "base_uri": "https://localhost:8080/",
          "height": 34
        },
        "outputId": "b198f5a3-85fc-4775-ec1b-2822c598bc6e"
      },
      "source": [
        "myself['gender']"
      ],
      "execution_count": 48,
      "outputs": [
        {
          "output_type": "execute_result",
          "data": {
            "text/plain": [
              "'male'"
            ]
          },
          "metadata": {
            "tags": []
          },
          "execution_count": 48
        }
      ]
    },
    {
      "cell_type": "code",
      "metadata": {
        "id": "gekADz6KmGq3",
        "colab_type": "code",
        "colab": {}
      },
      "source": [
        "myself=[{'vegetarian':False}]\n"
      ],
      "execution_count": 0,
      "outputs": []
    },
    {
      "cell_type": "code",
      "metadata": {
        "id": "XYcZQSfVoe_H",
        "colab_type": "code",
        "colab": {
          "base_uri": "https://localhost:8080/",
          "height": 34
        },
        "outputId": "ca64c9f7-e29b-4efb-ea93-1e3a7a75ba14"
      },
      "source": [
        "myself"
      ],
      "execution_count": 59,
      "outputs": [
        {
          "output_type": "execute_result",
          "data": {
            "text/plain": [
              "[{'vegetarian': False}]"
            ]
          },
          "metadata": {
            "tags": []
          },
          "execution_count": 59
        }
      ]
    },
    {
      "cell_type": "code",
      "metadata": {
        "id": "BfWUPB2dovXz",
        "colab_type": "code",
        "colab": {}
      },
      "source": [
        "myself = {'dob': 23, 'favorite colour':'black', 'age':23,'gender':'male', 'name':'naved', 'favourite song':'hawa banke', 'vegetarian': False}"
      ],
      "execution_count": 0,
      "outputs": []
    },
    {
      "cell_type": "code",
      "metadata": {
        "id": "6oEQ7AMapII0",
        "colab_type": "code",
        "colab": {
          "base_uri": "https://localhost:8080/",
          "height": 34
        },
        "outputId": "073af7c4-bb7b-4add-c24f-7a345cc8404a"
      },
      "source": [
        "myself['vegetarian']"
      ],
      "execution_count": 61,
      "outputs": [
        {
          "output_type": "execute_result",
          "data": {
            "text/plain": [
              "False"
            ]
          },
          "metadata": {
            "tags": []
          },
          "execution_count": 61
        }
      ]
    },
    {
      "cell_type": "code",
      "metadata": {
        "id": "iNWQvE3upOU0",
        "colab_type": "code",
        "colab": {}
      },
      "source": [
        ""
      ],
      "execution_count": 0,
      "outputs": []
    }
  ]
}